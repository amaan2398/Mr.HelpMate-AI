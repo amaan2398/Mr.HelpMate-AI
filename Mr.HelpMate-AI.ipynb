{
  "nbformat": 4,
  "nbformat_minor": 0,
  "metadata": {
    "colab": {
      "provenance": [],
      "authorship_tag": "ABX9TyPsPo0K1O5KwNi7LeWrkA6K",
      "include_colab_link": true
    },
    "kernelspec": {
      "name": "python3",
      "display_name": "Python 3"
    },
    "language_info": {
      "name": "python"
    }
  },
  "cells": [
    {
      "cell_type": "markdown",
      "metadata": {
        "id": "view-in-github",
        "colab_type": "text"
      },
      "source": [
        "<a href=\"https://colab.research.google.com/github/amaan2398/Mr.HelpMate-AI/blob/main/Mr.HelpMate-AI.ipynb\" target=\"_parent\"><img src=\"https://colab.research.google.com/assets/colab-badge.svg\" alt=\"Open In Colab\"/></a>"
      ]
    },
    {
      "cell_type": "markdown",
      "source": [
        "# 1. Setup and Imports"
      ],
      "metadata": {
        "id": "2jCKJfsQr9XU"
      }
    },
    {
      "cell_type": "code",
      "source": [
        "!pip install -U langchain-community\n",
        "!pip install -U pypdf\n",
        "!pip install -U faiss-cpu\n",
        "!pip install langchain-google-genai"
      ],
      "metadata": {
        "colab": {
          "base_uri": "https://localhost:8080/"
        },
        "id": "PI_pchES-iqH",
        "outputId": "62c5c545-9728-42d8-ea3a-7367fda19f25"
      },
      "execution_count": null,
      "outputs": [
        {
          "output_type": "stream",
          "name": "stdout",
          "text": [
            "Requirement already satisfied: langchain-community in /usr/local/lib/python3.12/dist-packages (0.3.29)\n",
            "Requirement already satisfied: langchain-core<2.0.0,>=0.3.75 in /usr/local/lib/python3.12/dist-packages (from langchain-community) (0.3.75)\n",
            "Requirement already satisfied: langchain<2.0.0,>=0.3.27 in /usr/local/lib/python3.12/dist-packages (from langchain-community) (0.3.27)\n",
            "Requirement already satisfied: SQLAlchemy<3,>=1.4 in /usr/local/lib/python3.12/dist-packages (from langchain-community) (2.0.43)\n",
            "Requirement already satisfied: requests<3,>=2.32.5 in /usr/local/lib/python3.12/dist-packages (from langchain-community) (2.32.5)\n",
            "Requirement already satisfied: PyYAML>=5.3 in /usr/local/lib/python3.12/dist-packages (from langchain-community) (6.0.2)\n",
            "Requirement already satisfied: aiohttp<4.0.0,>=3.8.3 in /usr/local/lib/python3.12/dist-packages (from langchain-community) (3.12.15)\n",
            "Requirement already satisfied: tenacity!=8.4.0,<10,>=8.1.0 in /usr/local/lib/python3.12/dist-packages (from langchain-community) (8.5.0)\n",
            "Requirement already satisfied: dataclasses-json<0.7,>=0.6.7 in /usr/local/lib/python3.12/dist-packages (from langchain-community) (0.6.7)\n",
            "Requirement already satisfied: pydantic-settings<3.0.0,>=2.10.1 in /usr/local/lib/python3.12/dist-packages (from langchain-community) (2.10.1)\n",
            "Requirement already satisfied: langsmith>=0.1.125 in /usr/local/lib/python3.12/dist-packages (from langchain-community) (0.4.23)\n",
            "Requirement already satisfied: httpx-sse<1.0.0,>=0.4.0 in /usr/local/lib/python3.12/dist-packages (from langchain-community) (0.4.1)\n",
            "Requirement already satisfied: numpy>=1.26.2 in /usr/local/lib/python3.12/dist-packages (from langchain-community) (2.0.2)\n",
            "Requirement already satisfied: aiohappyeyeballs>=2.5.0 in /usr/local/lib/python3.12/dist-packages (from aiohttp<4.0.0,>=3.8.3->langchain-community) (2.6.1)\n",
            "Requirement already satisfied: aiosignal>=1.4.0 in /usr/local/lib/python3.12/dist-packages (from aiohttp<4.0.0,>=3.8.3->langchain-community) (1.4.0)\n",
            "Requirement already satisfied: attrs>=17.3.0 in /usr/local/lib/python3.12/dist-packages (from aiohttp<4.0.0,>=3.8.3->langchain-community) (25.3.0)\n",
            "Requirement already satisfied: frozenlist>=1.1.1 in /usr/local/lib/python3.12/dist-packages (from aiohttp<4.0.0,>=3.8.3->langchain-community) (1.7.0)\n",
            "Requirement already satisfied: multidict<7.0,>=4.5 in /usr/local/lib/python3.12/dist-packages (from aiohttp<4.0.0,>=3.8.3->langchain-community) (6.6.4)\n",
            "Requirement already satisfied: propcache>=0.2.0 in /usr/local/lib/python3.12/dist-packages (from aiohttp<4.0.0,>=3.8.3->langchain-community) (0.3.2)\n",
            "Requirement already satisfied: yarl<2.0,>=1.17.0 in /usr/local/lib/python3.12/dist-packages (from aiohttp<4.0.0,>=3.8.3->langchain-community) (1.20.1)\n",
            "Requirement already satisfied: marshmallow<4.0.0,>=3.18.0 in /usr/local/lib/python3.12/dist-packages (from dataclasses-json<0.7,>=0.6.7->langchain-community) (3.26.1)\n",
            "Requirement already satisfied: typing-inspect<1,>=0.4.0 in /usr/local/lib/python3.12/dist-packages (from dataclasses-json<0.7,>=0.6.7->langchain-community) (0.9.0)\n",
            "Requirement already satisfied: langchain-text-splitters<1.0.0,>=0.3.9 in /usr/local/lib/python3.12/dist-packages (from langchain<2.0.0,>=0.3.27->langchain-community) (0.3.11)\n",
            "Requirement already satisfied: pydantic<3.0.0,>=2.7.4 in /usr/local/lib/python3.12/dist-packages (from langchain<2.0.0,>=0.3.27->langchain-community) (2.11.7)\n",
            "Requirement already satisfied: jsonpatch<2.0,>=1.33 in /usr/local/lib/python3.12/dist-packages (from langchain-core<2.0.0,>=0.3.75->langchain-community) (1.33)\n",
            "Requirement already satisfied: typing-extensions>=4.7 in /usr/local/lib/python3.12/dist-packages (from langchain-core<2.0.0,>=0.3.75->langchain-community) (4.15.0)\n",
            "Requirement already satisfied: packaging>=23.2 in /usr/local/lib/python3.12/dist-packages (from langchain-core<2.0.0,>=0.3.75->langchain-community) (25.0)\n",
            "Requirement already satisfied: httpx<1,>=0.23.0 in /usr/local/lib/python3.12/dist-packages (from langsmith>=0.1.125->langchain-community) (0.28.1)\n",
            "Requirement already satisfied: orjson>=3.9.14 in /usr/local/lib/python3.12/dist-packages (from langsmith>=0.1.125->langchain-community) (3.11.3)\n",
            "Requirement already satisfied: requests-toolbelt>=1.0.0 in /usr/local/lib/python3.12/dist-packages (from langsmith>=0.1.125->langchain-community) (1.0.0)\n",
            "Requirement already satisfied: zstandard>=0.23.0 in /usr/local/lib/python3.12/dist-packages (from langsmith>=0.1.125->langchain-community) (0.24.0)\n",
            "Requirement already satisfied: python-dotenv>=0.21.0 in /usr/local/lib/python3.12/dist-packages (from pydantic-settings<3.0.0,>=2.10.1->langchain-community) (1.1.1)\n",
            "Requirement already satisfied: typing-inspection>=0.4.0 in /usr/local/lib/python3.12/dist-packages (from pydantic-settings<3.0.0,>=2.10.1->langchain-community) (0.4.1)\n",
            "Requirement already satisfied: charset_normalizer<4,>=2 in /usr/local/lib/python3.12/dist-packages (from requests<3,>=2.32.5->langchain-community) (3.4.3)\n",
            "Requirement already satisfied: idna<4,>=2.5 in /usr/local/lib/python3.12/dist-packages (from requests<3,>=2.32.5->langchain-community) (3.10)\n",
            "Requirement already satisfied: urllib3<3,>=1.21.1 in /usr/local/lib/python3.12/dist-packages (from requests<3,>=2.32.5->langchain-community) (2.5.0)\n",
            "Requirement already satisfied: certifi>=2017.4.17 in /usr/local/lib/python3.12/dist-packages (from requests<3,>=2.32.5->langchain-community) (2025.8.3)\n",
            "Requirement already satisfied: greenlet>=1 in /usr/local/lib/python3.12/dist-packages (from SQLAlchemy<3,>=1.4->langchain-community) (3.2.4)\n",
            "Requirement already satisfied: anyio in /usr/local/lib/python3.12/dist-packages (from httpx<1,>=0.23.0->langsmith>=0.1.125->langchain-community) (4.10.0)\n",
            "Requirement already satisfied: httpcore==1.* in /usr/local/lib/python3.12/dist-packages (from httpx<1,>=0.23.0->langsmith>=0.1.125->langchain-community) (1.0.9)\n",
            "Requirement already satisfied: h11>=0.16 in /usr/local/lib/python3.12/dist-packages (from httpcore==1.*->httpx<1,>=0.23.0->langsmith>=0.1.125->langchain-community) (0.16.0)\n",
            "Requirement already satisfied: jsonpointer>=1.9 in /usr/local/lib/python3.12/dist-packages (from jsonpatch<2.0,>=1.33->langchain-core<2.0.0,>=0.3.75->langchain-community) (3.0.0)\n",
            "Requirement already satisfied: annotated-types>=0.6.0 in /usr/local/lib/python3.12/dist-packages (from pydantic<3.0.0,>=2.7.4->langchain<2.0.0,>=0.3.27->langchain-community) (0.7.0)\n",
            "Requirement already satisfied: pydantic-core==2.33.2 in /usr/local/lib/python3.12/dist-packages (from pydantic<3.0.0,>=2.7.4->langchain<2.0.0,>=0.3.27->langchain-community) (2.33.2)\n",
            "Requirement already satisfied: mypy-extensions>=0.3.0 in /usr/local/lib/python3.12/dist-packages (from typing-inspect<1,>=0.4.0->dataclasses-json<0.7,>=0.6.7->langchain-community) (1.1.0)\n",
            "Requirement already satisfied: sniffio>=1.1 in /usr/local/lib/python3.12/dist-packages (from anyio->httpx<1,>=0.23.0->langsmith>=0.1.125->langchain-community) (1.3.1)\n",
            "Requirement already satisfied: pypdf in /usr/local/lib/python3.12/dist-packages (6.0.0)\n",
            "Requirement already satisfied: faiss-cpu in /usr/local/lib/python3.12/dist-packages (1.12.0)\n",
            "Requirement already satisfied: numpy<3.0,>=1.25.0 in /usr/local/lib/python3.12/dist-packages (from faiss-cpu) (2.0.2)\n",
            "Requirement already satisfied: packaging in /usr/local/lib/python3.12/dist-packages (from faiss-cpu) (25.0)\n",
            "Requirement already satisfied: langchain-google-genai in /usr/local/lib/python3.12/dist-packages (2.1.10)\n",
            "Requirement already satisfied: filetype<2.0.0,>=1.2.0 in /usr/local/lib/python3.12/dist-packages (from langchain-google-genai) (1.2.0)\n",
            "Requirement already satisfied: google-ai-generativelanguage<0.7.0,>=0.6.18 in /usr/local/lib/python3.12/dist-packages (from langchain-google-genai) (0.6.18)\n",
            "Requirement already satisfied: langchain-core<0.4.0,>=0.3.75 in /usr/local/lib/python3.12/dist-packages (from langchain-google-genai) (0.3.75)\n",
            "Requirement already satisfied: pydantic<3,>=2 in /usr/local/lib/python3.12/dist-packages (from langchain-google-genai) (2.11.7)\n",
            "Requirement already satisfied: google-api-core!=2.0.*,!=2.1.*,!=2.10.*,!=2.2.*,!=2.3.*,!=2.4.*,!=2.5.*,!=2.6.*,!=2.7.*,!=2.8.*,!=2.9.*,<3.0.0,>=1.34.1 in /usr/local/lib/python3.12/dist-packages (from google-api-core[grpc]!=2.0.*,!=2.1.*,!=2.10.*,!=2.2.*,!=2.3.*,!=2.4.*,!=2.5.*,!=2.6.*,!=2.7.*,!=2.8.*,!=2.9.*,<3.0.0,>=1.34.1->google-ai-generativelanguage<0.7.0,>=0.6.18->langchain-google-genai) (2.25.1)\n",
            "Requirement already satisfied: google-auth!=2.24.0,!=2.25.0,<3.0.0,>=2.14.1 in /usr/local/lib/python3.12/dist-packages (from google-ai-generativelanguage<0.7.0,>=0.6.18->langchain-google-genai) (2.38.0)\n",
            "Requirement already satisfied: proto-plus<2.0.0,>=1.22.3 in /usr/local/lib/python3.12/dist-packages (from google-ai-generativelanguage<0.7.0,>=0.6.18->langchain-google-genai) (1.26.1)\n",
            "Requirement already satisfied: protobuf!=4.21.0,!=4.21.1,!=4.21.2,!=4.21.3,!=4.21.4,!=4.21.5,<7.0.0,>=3.20.2 in /usr/local/lib/python3.12/dist-packages (from google-ai-generativelanguage<0.7.0,>=0.6.18->langchain-google-genai) (5.29.5)\n",
            "Requirement already satisfied: langsmith>=0.3.45 in /usr/local/lib/python3.12/dist-packages (from langchain-core<0.4.0,>=0.3.75->langchain-google-genai) (0.4.23)\n",
            "Requirement already satisfied: tenacity!=8.4.0,<10.0.0,>=8.1.0 in /usr/local/lib/python3.12/dist-packages (from langchain-core<0.4.0,>=0.3.75->langchain-google-genai) (8.5.0)\n",
            "Requirement already satisfied: jsonpatch<2.0,>=1.33 in /usr/local/lib/python3.12/dist-packages (from langchain-core<0.4.0,>=0.3.75->langchain-google-genai) (1.33)\n",
            "Requirement already satisfied: PyYAML>=5.3 in /usr/local/lib/python3.12/dist-packages (from langchain-core<0.4.0,>=0.3.75->langchain-google-genai) (6.0.2)\n",
            "Requirement already satisfied: typing-extensions>=4.7 in /usr/local/lib/python3.12/dist-packages (from langchain-core<0.4.0,>=0.3.75->langchain-google-genai) (4.15.0)\n",
            "Requirement already satisfied: packaging>=23.2 in /usr/local/lib/python3.12/dist-packages (from langchain-core<0.4.0,>=0.3.75->langchain-google-genai) (25.0)\n",
            "Requirement already satisfied: annotated-types>=0.6.0 in /usr/local/lib/python3.12/dist-packages (from pydantic<3,>=2->langchain-google-genai) (0.7.0)\n",
            "Requirement already satisfied: pydantic-core==2.33.2 in /usr/local/lib/python3.12/dist-packages (from pydantic<3,>=2->langchain-google-genai) (2.33.2)\n",
            "Requirement already satisfied: typing-inspection>=0.4.0 in /usr/local/lib/python3.12/dist-packages (from pydantic<3,>=2->langchain-google-genai) (0.4.1)\n",
            "Requirement already satisfied: googleapis-common-protos<2.0.0,>=1.56.2 in /usr/local/lib/python3.12/dist-packages (from google-api-core!=2.0.*,!=2.1.*,!=2.10.*,!=2.2.*,!=2.3.*,!=2.4.*,!=2.5.*,!=2.6.*,!=2.7.*,!=2.8.*,!=2.9.*,<3.0.0,>=1.34.1->google-api-core[grpc]!=2.0.*,!=2.1.*,!=2.10.*,!=2.2.*,!=2.3.*,!=2.4.*,!=2.5.*,!=2.6.*,!=2.7.*,!=2.8.*,!=2.9.*,<3.0.0,>=1.34.1->google-ai-generativelanguage<0.7.0,>=0.6.18->langchain-google-genai) (1.70.0)\n",
            "Requirement already satisfied: requests<3.0.0,>=2.18.0 in /usr/local/lib/python3.12/dist-packages (from google-api-core!=2.0.*,!=2.1.*,!=2.10.*,!=2.2.*,!=2.3.*,!=2.4.*,!=2.5.*,!=2.6.*,!=2.7.*,!=2.8.*,!=2.9.*,<3.0.0,>=1.34.1->google-api-core[grpc]!=2.0.*,!=2.1.*,!=2.10.*,!=2.2.*,!=2.3.*,!=2.4.*,!=2.5.*,!=2.6.*,!=2.7.*,!=2.8.*,!=2.9.*,<3.0.0,>=1.34.1->google-ai-generativelanguage<0.7.0,>=0.6.18->langchain-google-genai) (2.32.5)\n",
            "Requirement already satisfied: grpcio<2.0.0,>=1.33.2 in /usr/local/lib/python3.12/dist-packages (from google-api-core[grpc]!=2.0.*,!=2.1.*,!=2.10.*,!=2.2.*,!=2.3.*,!=2.4.*,!=2.5.*,!=2.6.*,!=2.7.*,!=2.8.*,!=2.9.*,<3.0.0,>=1.34.1->google-ai-generativelanguage<0.7.0,>=0.6.18->langchain-google-genai) (1.74.0)\n",
            "Requirement already satisfied: grpcio-status<2.0.0,>=1.33.2 in /usr/local/lib/python3.12/dist-packages (from google-api-core[grpc]!=2.0.*,!=2.1.*,!=2.10.*,!=2.2.*,!=2.3.*,!=2.4.*,!=2.5.*,!=2.6.*,!=2.7.*,!=2.8.*,!=2.9.*,<3.0.0,>=1.34.1->google-ai-generativelanguage<0.7.0,>=0.6.18->langchain-google-genai) (1.71.2)\n",
            "Requirement already satisfied: cachetools<6.0,>=2.0.0 in /usr/local/lib/python3.12/dist-packages (from google-auth!=2.24.0,!=2.25.0,<3.0.0,>=2.14.1->google-ai-generativelanguage<0.7.0,>=0.6.18->langchain-google-genai) (5.5.2)\n",
            "Requirement already satisfied: pyasn1-modules>=0.2.1 in /usr/local/lib/python3.12/dist-packages (from google-auth!=2.24.0,!=2.25.0,<3.0.0,>=2.14.1->google-ai-generativelanguage<0.7.0,>=0.6.18->langchain-google-genai) (0.4.2)\n",
            "Requirement already satisfied: rsa<5,>=3.1.4 in /usr/local/lib/python3.12/dist-packages (from google-auth!=2.24.0,!=2.25.0,<3.0.0,>=2.14.1->google-ai-generativelanguage<0.7.0,>=0.6.18->langchain-google-genai) (4.9.1)\n",
            "Requirement already satisfied: jsonpointer>=1.9 in /usr/local/lib/python3.12/dist-packages (from jsonpatch<2.0,>=1.33->langchain-core<0.4.0,>=0.3.75->langchain-google-genai) (3.0.0)\n",
            "Requirement already satisfied: httpx<1,>=0.23.0 in /usr/local/lib/python3.12/dist-packages (from langsmith>=0.3.45->langchain-core<0.4.0,>=0.3.75->langchain-google-genai) (0.28.1)\n",
            "Requirement already satisfied: orjson>=3.9.14 in /usr/local/lib/python3.12/dist-packages (from langsmith>=0.3.45->langchain-core<0.4.0,>=0.3.75->langchain-google-genai) (3.11.3)\n",
            "Requirement already satisfied: requests-toolbelt>=1.0.0 in /usr/local/lib/python3.12/dist-packages (from langsmith>=0.3.45->langchain-core<0.4.0,>=0.3.75->langchain-google-genai) (1.0.0)\n",
            "Requirement already satisfied: zstandard>=0.23.0 in /usr/local/lib/python3.12/dist-packages (from langsmith>=0.3.45->langchain-core<0.4.0,>=0.3.75->langchain-google-genai) (0.24.0)\n",
            "Requirement already satisfied: anyio in /usr/local/lib/python3.12/dist-packages (from httpx<1,>=0.23.0->langsmith>=0.3.45->langchain-core<0.4.0,>=0.3.75->langchain-google-genai) (4.10.0)\n",
            "Requirement already satisfied: certifi in /usr/local/lib/python3.12/dist-packages (from httpx<1,>=0.23.0->langsmith>=0.3.45->langchain-core<0.4.0,>=0.3.75->langchain-google-genai) (2025.8.3)\n",
            "Requirement already satisfied: httpcore==1.* in /usr/local/lib/python3.12/dist-packages (from httpx<1,>=0.23.0->langsmith>=0.3.45->langchain-core<0.4.0,>=0.3.75->langchain-google-genai) (1.0.9)\n",
            "Requirement already satisfied: idna in /usr/local/lib/python3.12/dist-packages (from httpx<1,>=0.23.0->langsmith>=0.3.45->langchain-core<0.4.0,>=0.3.75->langchain-google-genai) (3.10)\n",
            "Requirement already satisfied: h11>=0.16 in /usr/local/lib/python3.12/dist-packages (from httpcore==1.*->httpx<1,>=0.23.0->langsmith>=0.3.45->langchain-core<0.4.0,>=0.3.75->langchain-google-genai) (0.16.0)\n",
            "Requirement already satisfied: pyasn1<0.7.0,>=0.6.1 in /usr/local/lib/python3.12/dist-packages (from pyasn1-modules>=0.2.1->google-auth!=2.24.0,!=2.25.0,<3.0.0,>=2.14.1->google-ai-generativelanguage<0.7.0,>=0.6.18->langchain-google-genai) (0.6.1)\n",
            "Requirement already satisfied: charset_normalizer<4,>=2 in /usr/local/lib/python3.12/dist-packages (from requests<3.0.0,>=2.18.0->google-api-core!=2.0.*,!=2.1.*,!=2.10.*,!=2.2.*,!=2.3.*,!=2.4.*,!=2.5.*,!=2.6.*,!=2.7.*,!=2.8.*,!=2.9.*,<3.0.0,>=1.34.1->google-api-core[grpc]!=2.0.*,!=2.1.*,!=2.10.*,!=2.2.*,!=2.3.*,!=2.4.*,!=2.5.*,!=2.6.*,!=2.7.*,!=2.8.*,!=2.9.*,<3.0.0,>=1.34.1->google-ai-generativelanguage<0.7.0,>=0.6.18->langchain-google-genai) (3.4.3)\n",
            "Requirement already satisfied: urllib3<3,>=1.21.1 in /usr/local/lib/python3.12/dist-packages (from requests<3.0.0,>=2.18.0->google-api-core!=2.0.*,!=2.1.*,!=2.10.*,!=2.2.*,!=2.3.*,!=2.4.*,!=2.5.*,!=2.6.*,!=2.7.*,!=2.8.*,!=2.9.*,<3.0.0,>=1.34.1->google-api-core[grpc]!=2.0.*,!=2.1.*,!=2.10.*,!=2.2.*,!=2.3.*,!=2.4.*,!=2.5.*,!=2.6.*,!=2.7.*,!=2.8.*,!=2.9.*,<3.0.0,>=1.34.1->google-ai-generativelanguage<0.7.0,>=0.6.18->langchain-google-genai) (2.5.0)\n",
            "Requirement already satisfied: sniffio>=1.1 in /usr/local/lib/python3.12/dist-packages (from anyio->httpx<1,>=0.23.0->langsmith>=0.3.45->langchain-core<0.4.0,>=0.3.75->langchain-google-genai) (1.3.1)\n"
          ]
        }
      ]
    },
    {
      "cell_type": "markdown",
      "source": [
        "## 1.1. Library Installation and Imports"
      ],
      "metadata": {
        "id": "C_0JOb5KuCy_"
      }
    },
    {
      "cell_type": "code",
      "execution_count": null,
      "metadata": {
        "id": "y0a8OyIe7prV"
      },
      "outputs": [],
      "source": [
        "import os\n",
        "\n",
        "import numpy as np\n",
        "\n",
        "from google.colab import userdata\n",
        "\n",
        "from langchain.vectorstores import FAISS\n",
        "from langchain.document_loaders import PyPDFDirectoryLoader\n",
        "from langchain.text_splitter import RecursiveCharacterTextSplitter\n",
        "from langchain_community.embeddings import HuggingFaceBgeEmbeddings\n",
        "from langchain_community.llms import HuggingFaceHub, Ollama\n",
        "from langchain_core.output_parsers import StrOutputParser\n",
        "from langchain_core.prompts import ChatPromptTemplate\n",
        "from langchain_core.runnables import RunnablePassthrough\n",
        "\n",
        "from langchain_google_genai import ChatGoogleGenerativeAI, GoogleGenerativeAIEmbeddings"
      ]
    },
    {
      "cell_type": "markdown",
      "source": [
        "## 1.2. API Key Configuration"
      ],
      "metadata": {
        "id": "r4mnaqQEueAs"
      }
    },
    {
      "cell_type": "code",
      "source": [
        "os.environ['HUGGINGFACEHUB_API_TOKEN'] = ''\n",
        "os.environ['GOOGLE_API_KEY'] = ''"
      ],
      "metadata": {
        "id": "IpVphuRSTnGP"
      },
      "execution_count": null,
      "outputs": []
    },
    {
      "cell_type": "markdown",
      "source": [
        "# 2. Data Loading and Preprocessing"
      ],
      "metadata": {
        "id": "pToxoZ7uukTf"
      }
    },
    {
      "cell_type": "markdown",
      "source": [
        "## 2.1. Loading Documents from Directory"
      ],
      "metadata": {
        "id": "ooK-BINBuokd"
      }
    },
    {
      "cell_type": "code",
      "source": [
        "os.listdir('Policy_Docs')"
      ],
      "metadata": {
        "colab": {
          "base_uri": "https://localhost:8080/"
        },
        "id": "mUtXsngx73f3",
        "outputId": "6d350e2c-41c0-4853-ad6a-ca4eb2d6b1ac"
      },
      "execution_count": null,
      "outputs": [
        {
          "output_type": "execute_result",
          "data": {
            "text/plain": [
              "['Principal-Sample-Life-Insurance-Policy.pdf']"
            ]
          },
          "metadata": {},
          "execution_count": 33
        }
      ]
    },
    {
      "cell_type": "markdown",
      "source": [
        "## 2.2. Document Splitting and Chunking"
      ],
      "metadata": {
        "id": "0HJ7Vpdwut4N"
      }
    },
    {
      "cell_type": "code",
      "source": [
        "loader = PyPDFDirectoryLoader('Policy_Docs')\n",
        "pdfpages = loader.load_and_split()"
      ],
      "metadata": {
        "id": "xYxgy84y955z"
      },
      "execution_count": null,
      "outputs": []
    },
    {
      "cell_type": "code",
      "source": [
        "doc_before_split = loader.load()\n",
        "print(f'Number of pages: {len(doc_before_split)}')\n",
        "print()\n",
        "if len(doc_before_split) > 1:\n",
        "    print(f'Number of characters in first page: {len(doc_before_split[0].page_content)}')\n",
        "    print()\n",
        "    print(f'Glimps of data: \\n{doc_before_split[0].page_content[:100]}...')\n",
        "else:\n",
        "    print('No data loaded!')"
      ],
      "metadata": {
        "colab": {
          "base_uri": "https://localhost:8080/"
        },
        "id": "XjRGLRwn-Z_-",
        "outputId": "95964a09-20ec-4862-de20-fff818f1143b"
      },
      "execution_count": null,
      "outputs": [
        {
          "output_type": "stream",
          "name": "stdout",
          "text": [
            "Number of pages: 64\n",
            "\n",
            "Number of characters in first page: 203\n",
            "\n",
            "Glimps of data: \n",
            "GROUP POLICY FOR: \n",
            "RHODE ISLAND JOHN DOE \n",
            " \n",
            "ALL MEMBERS \n",
            "Group Member Life Insurance \n",
            " \n",
            "Print Date: ...\n"
          ]
        }
      ]
    },
    {
      "cell_type": "markdown",
      "source": [
        "## 2.3. Document Statistics"
      ],
      "metadata": {
        "id": "tJNjLnNku2-X"
      }
    },
    {
      "cell_type": "code",
      "source": [
        "for idx, doc in enumerate(doc_before_split):\n",
        "    print(f'Page {idx+1}: {len(doc.page_content)} chars')"
      ],
      "metadata": {
        "colab": {
          "base_uri": "https://localhost:8080/"
        },
        "id": "-bwPXPpz_NKv",
        "outputId": "1ba617ac-9dc3-4152-bc40-b9f3543f8ab2"
      },
      "execution_count": null,
      "outputs": [
        {
          "output_type": "stream",
          "name": "stdout",
          "text": [
            "Page 1: 203 chars\n",
            "Page 2: 34 chars\n",
            "Page 3: 1578 chars\n",
            "Page 4: 34 chars\n",
            "Page 5: 836 chars\n",
            "Page 6: 1131 chars\n",
            "Page 7: 1289 chars\n",
            "Page 8: 1187 chars\n",
            "Page 9: 2301 chars\n",
            "Page 10: 1460 chars\n",
            "Page 11: 1845 chars\n",
            "Page 12: 2164 chars\n",
            "Page 13: 1682 chars\n",
            "Page 14: 1980 chars\n",
            "Page 15: 219 chars\n",
            "Page 16: 2027 chars\n",
            "Page 17: 1786 chars\n",
            "Page 18: 1842 chars\n",
            "Page 19: 943 chars\n",
            "Page 20: 1928 chars\n",
            "Page 21: 2268 chars\n",
            "Page 22: 1362 chars\n",
            "Page 23: 2136 chars\n",
            "Page 24: 724 chars\n",
            "Page 25: 501 chars\n",
            "Page 26: 1556 chars\n",
            "Page 27: 556 chars\n",
            "Page 28: 2170 chars\n",
            "Page 29: 2321 chars\n",
            "Page 30: 2631 chars\n",
            "Page 31: 2548 chars\n",
            "Page 32: 2541 chars\n",
            "Page 33: 2771 chars\n",
            "Page 34: 533 chars\n",
            "Page 35: 1474 chars\n",
            "Page 36: 1961 chars\n",
            "Page 37: 783 chars\n",
            "Page 38: 1932 chars\n",
            "Page 39: 1247 chars\n",
            "Page 40: 2010 chars\n",
            "Page 41: 1483 chars\n",
            "Page 42: 2305 chars\n",
            "Page 43: 2359 chars\n",
            "Page 44: 2286 chars\n",
            "Page 45: 1060 chars\n",
            "Page 46: 1773 chars\n",
            "Page 47: 2359 chars\n",
            "Page 48: 2462 chars\n",
            "Page 49: 2368 chars\n",
            "Page 50: 2560 chars\n",
            "Page 51: 1707 chars\n",
            "Page 52: 1295 chars\n",
            "Page 53: 1767 chars\n",
            "Page 54: 2156 chars\n",
            "Page 55: 2049 chars\n",
            "Page 56: 1924 chars\n",
            "Page 57: 1986 chars\n",
            "Page 58: 1362 chars\n",
            "Page 59: 1507 chars\n",
            "Page 60: 1724 chars\n",
            "Page 61: 2563 chars\n",
            "Page 62: 1967 chars\n",
            "Page 63: 34 chars\n",
            "Page 64: 61 chars\n"
          ]
        }
      ]
    },
    {
      "cell_type": "code",
      "source": [
        "text_splitter = RecursiveCharacterTextSplitter(\n",
        "    chunk_size=1000,\n",
        "    chunk_overlap=100,\n",
        "    length_function=len,\n",
        "    is_separator_regex=False\n",
        ")\n",
        "\n",
        "doc_after_split = text_splitter.split_documents(pdfpages)"
      ],
      "metadata": {
        "id": "ZYIqzDHEAbOx"
      },
      "execution_count": null,
      "outputs": []
    },
    {
      "cell_type": "code",
      "source": [
        "doc_after_split[10: 12]"
      ],
      "metadata": {
        "colab": {
          "base_uri": "https://localhost:8080/"
        },
        "id": "Vj59M63aB8rh",
        "outputId": "f56701a1-a652-411d-df06-0e9992b2999f"
      },
      "execution_count": null,
      "outputs": [
        {
          "output_type": "execute_result",
          "data": {
            "text/plain": [
              "[Document(metadata={'producer': 'ADEP Document Services - PDF Generator', 'creator': 'Acrobat PDFMaker 10.1 for Word', 'creationdate': '2014-07-16T12:50:27-05:00', 'author': 'Apache POI', 'company': 'Principal Financial Group', 'contenttypeid': '0x010100963E1E66C16CFF4188CB6D2716FCB7F5', 'itemretentionformula': '', 'moddate': '2014-07-16T12:50:34-05:00', 'order': '467600.000000', 'paper copies': '1', 'sourcemodified': 'D:20140716175024', 'title': 'Life Policy', '_copysource': '2486961970434790079.docx', '_dlc_policyid': '', 'source': 'Policy_Docs/Principal-Sample-Life-Insurance-Policy.pdf', 'total_pages': 64, 'page': 7, 'page_label': '8'}, page_content='This policy has been updated effective January 1, 2014 \\n \\n \\n \\nGC 6001 TABLE OF CONTENTS, PAGE 3  \\n \\n \\n \\n Section A - Member Life Insurance \\n \\n \\n Schedule of Insurance Article 1 \\n Death Benefits Payable Article 2 \\n Beneficiary Article 3 \\n Facility of Payment Article 4 \\n Settlement of Proceeds Article 5 \\n Member Life Insurance - Coverage During Disability Article 6 \\n \\n Accelerated Benefits Article 7 \\n \\n \\n Section B - Member Accidental Death and Dismemberment Insurance \\n \\n \\n Schedule of Insurance Article 1 \\n Benefit Qualification Article 2 \\n Benefits Payable Article 3 \\n \\n Seat Belt Benefit Article 4 \\n Loss of Use or Paralysis Benefit Article 5 \\n Loss of Speech and/or Hearing Benefit Article 6 \\n Repatriation Benefit Article 7 \\n Educational Benefit Article 8 \\n \\n Limitations Article 9 \\n \\n \\n Section C - Dependent Life Insurance \\n \\n \\n Schedule of Insurance Article 1 \\n Death Benefits Payable Article 2 \\n Beneficiary Article 3 \\n \\n \\n Section D - Claim Procedures \\n \\n \\n Notice of Claim Article 1'),\n",
              " Document(metadata={'producer': 'ADEP Document Services - PDF Generator', 'creator': 'Acrobat PDFMaker 10.1 for Word', 'creationdate': '2014-07-16T12:50:27-05:00', 'author': 'Apache POI', 'company': 'Principal Financial Group', 'contenttypeid': '0x010100963E1E66C16CFF4188CB6D2716FCB7F5', 'itemretentionformula': '', 'moddate': '2014-07-16T12:50:34-05:00', 'order': '467600.000000', 'paper copies': '1', 'sourcemodified': 'D:20140716175024', 'title': 'Life Policy', '_copysource': '2486961970434790079.docx', '_dlc_policyid': '', 'source': 'Policy_Docs/Principal-Sample-Life-Insurance-Policy.pdf', 'total_pages': 64, 'page': 7, 'page_label': '8'}, page_content='Beneficiary Article 3 \\n \\n \\n Section D - Claim Procedures \\n \\n \\n Notice of Claim Article 1 \\n Claim Forms Article 2 \\n Proof of Loss Article 3 \\n Payment, Denial and Review Article 4 \\n Medical Examinations Article 5 \\n Autopsy Article 6 \\n Legal Action Article 7 \\n Time Limits Article 8')]"
            ]
          },
          "metadata": {},
          "execution_count": 38
        }
      ]
    },
    {
      "cell_type": "code",
      "source": [
        "avg_doc_length = lambda docs: sum([len(doc.page_content) for doc in docs]) // len(docs)\n",
        "avg_char_count_before = avg_doc_length(doc_before_split)\n",
        "avg_char_count_after = avg_doc_length(doc_after_split)\n",
        "\n",
        "print(f'Average number of characters in original docs: {avg_char_count_before}')\n",
        "print(f'Average number of characters in split docs: {avg_char_count_after}')"
      ],
      "metadata": {
        "colab": {
          "base_uri": "https://localhost:8080/"
        },
        "id": "ea_E7kGtB_2p",
        "outputId": "1708c488-6fe3-48cf-fbae-159d6acf2969"
      },
      "execution_count": null,
      "outputs": [
        {
          "output_type": "stream",
          "name": "stdout",
          "text": [
            "Average number of characters in original docs: 1618\n",
            "Average number of characters in split docs: 756\n"
          ]
        }
      ]
    },
    {
      "cell_type": "markdown",
      "source": [
        "# 3. Creating the RAG System Components"
      ],
      "metadata": {
        "id": "XFT2JxHrvIvi"
      }
    },
    {
      "cell_type": "markdown",
      "source": [
        "## 3.1. Generating Embeddings"
      ],
      "metadata": {
        "id": "Tpkqr1ZNvNpF"
      }
    },
    {
      "cell_type": "code",
      "source": [
        "embeddings = GoogleGenerativeAIEmbeddings(\n",
        "    model=\"models/text-embedding-004\",\n",
        "    google_api_key=os.getenv(\"GOOGLE_API_KEY\")\n",
        ")"
      ],
      "metadata": {
        "id": "5fwcLyYAOVt0"
      },
      "execution_count": null,
      "outputs": []
    },
    {
      "cell_type": "code",
      "source": [
        "sample_embedding = np.array(embeddings.embed_query(doc_after_split[0].page_content))\n",
        "print(f'Embedding shape: {sample_embedding.shape}')\n",
        "print(f'Embedding values: {sample_embedding[:10]}')"
      ],
      "metadata": {
        "colab": {
          "base_uri": "https://localhost:8080/"
        },
        "id": "xNPhpAF3qS6u",
        "outputId": "81f3884f-9b37-4558-df34-4f15a7c00121"
      },
      "execution_count": null,
      "outputs": [
        {
          "output_type": "stream",
          "name": "stdout",
          "text": [
            "Embedding shape: (768,)\n",
            "Embedding values: [ 0.06530181  0.01385744  0.02795277 -0.00104217 -0.01671013  0.00738504\n",
            "  0.00435269  0.05256361  0.02740174  0.05536716]\n"
          ]
        }
      ]
    },
    {
      "cell_type": "markdown",
      "source": [
        "## 3.2. Building the Vector Store (FAISS)"
      ],
      "metadata": {
        "id": "XujvVqCVvWlf"
      }
    },
    {
      "cell_type": "code",
      "source": [
        "# Create the FAISS Store\n",
        "faiss_vector_store = FAISS.from_documents(doc_after_split, embeddings)\n"
      ],
      "metadata": {
        "id": "1Y0ErXxlqv4u"
      },
      "execution_count": null,
      "outputs": []
    },
    {
      "cell_type": "markdown",
      "source": [
        "## 3.3. Initializing the Retriever"
      ],
      "metadata": {
        "id": "5exnEVyRvzJU"
      }
    },
    {
      "cell_type": "code",
      "source": [
        "# Explicitly create FAISS retriever (confirm if it's a valid retriever)\n",
        "faiss_retriever = faiss_vector_store.as_retriever(search_type = 'similarity', search_kwargs={'k': 5})\n",
        "\n",
        "print(\"FAISS Retriever Type:\", type(faiss_retriever))"
      ],
      "metadata": {
        "colab": {
          "base_uri": "https://localhost:8080/"
        },
        "id": "Q5a8OmVXr9xq",
        "outputId": "8a855aa1-71ec-4e45-dafd-b1d0916e8ea3"
      },
      "execution_count": null,
      "outputs": [
        {
          "output_type": "stream",
          "name": "stdout",
          "text": [
            "FAISS Retriever Type: <class 'langchain_core.vectorstores.base.VectorStoreRetriever'>\n"
          ]
        }
      ]
    },
    {
      "cell_type": "markdown",
      "source": [
        "# 4. Testing and Verification"
      ],
      "metadata": {
        "id": "C4Ee59dMwP_4"
      }
    },
    {
      "cell_type": "code",
      "source": [
        "queries = [\n",
        "    'What is a \"Member\" according to this policy?',\n",
        "    'What is the grace period for paying premiums?',\n",
        "    'Who is considered a \"Dependent\"?'\n",
        "]"
      ],
      "metadata": {
        "id": "aDzz0_pq2Brl"
      },
      "execution_count": null,
      "outputs": []
    },
    {
      "cell_type": "markdown",
      "source": [
        "## 4.1. Retrieving Relevant Documents"
      ],
      "metadata": {
        "id": "g9U9IVkTwY34"
      }
    },
    {
      "cell_type": "code",
      "source": [
        "query = queries[0]\n",
        "\n",
        "relevant_docs = faiss_retriever.get_relevant_documents(query)\n",
        "print(f'Number of relevant docs: {len(relevant_docs)}')\n",
        "print(relevant_docs[0])\n",
        "print('*'*100)\n",
        "print(relevant_docs[1])\n",
        "print('*'*100)\n",
        "print(relevant_docs[2])"
      ],
      "metadata": {
        "colab": {
          "base_uri": "https://localhost:8080/"
        },
        "id": "VXiZUISW2ksa",
        "outputId": "a174d424-c8ef-4ef1-fe8d-3c9459d4d323"
      },
      "execution_count": null,
      "outputs": [
        {
          "output_type": "stream",
          "name": "stdout",
          "text": [
            "Number of relevant docs: 5\n",
            "page_content='Payment of premium b eyond the effective date of the change constitutes the Policyholder's \n",
            "consent to the change. \n",
            " \n",
            " \n",
            "Article 3 - Policyholder Eligibility Requirements \n",
            " \n",
            "To be an eligible group and to remain an eligible group, the Policyholder must:' metadata={'producer': 'ADEP Document Services - PDF Generator', 'creator': 'Acrobat PDFMaker 10.1 for Word', 'creationdate': '2014-07-16T12:50:27-05:00', 'author': 'Apache POI', 'company': 'Principal Financial Group', 'contenttypeid': '0x010100963E1E66C16CFF4188CB6D2716FCB7F5', 'itemretentionformula': '', 'moddate': '2014-07-16T12:50:34-05:00', 'order': '467600.000000', 'paper copies': '1', 'sourcemodified': 'D:20140716175024', 'title': 'Life Policy', '_copysource': '2486961970434790079.docx', '_dlc_policyid': '', 'source': 'Policy_Docs/Principal-Sample-Life-Insurance-Policy.pdf', 'total_pages': 64, 'page': 15, 'page_label': '16'}\n",
            "****************************************************************************************************\n",
            "page_content='e. has performed an act or practice that constitutes fraud or has made an intentional \n",
            "misrepresentation of material fact under the terms of this Group Policy; or \n",
            " \n",
            "f. does not promptly provide The Principal with information that is reasonably required; or \n",
            " \n",
            "g. fails to perform any of its obligations that relate to this Group Policy.' metadata={'producer': 'ADEP Document Services - PDF Generator', 'creator': 'Acrobat PDFMaker 10.1 for Word', 'creationdate': '2014-07-16T12:50:27-05:00', 'author': 'Apache POI', 'company': 'Principal Financial Group', 'contenttypeid': '0x010100963E1E66C16CFF4188CB6D2716FCB7F5', 'itemretentionformula': '', 'moddate': '2014-07-16T12:50:34-05:00', 'order': '467600.000000', 'paper copies': '1', 'sourcemodified': 'D:20140716175024', 'title': 'Life Policy', '_copysource': '2486961970434790079.docx', '_dlc_policyid': '', 'source': 'Policy_Docs/Principal-Sample-Life-Insurance-Policy.pdf', 'total_pages': 64, 'page': 22, 'page_label': '23'}\n",
            "****************************************************************************************************\n",
            "page_content='This policy has been updated effective  January 1, 2014 \n",
            " \n",
            " \n",
            "PART III - INDIVIDUAL REQUIREMENTS AND RIGHTS \n",
            "GC 6006 Section A - Eligibility, Page 1  \n",
            " \n",
            "PART III - INDIVIDUAL REQUIREMENTS AND RIGHTS \n",
            " \n",
            " \n",
            "Section A - Eligibility \n",
            " \n",
            " \n",
            "Article 1 - Member Life Insurance \n",
            " \n",
            "A person will be eligible for Member Life Insurance on the date the person completes 30 \n",
            "consecutive days of continuous Active Work with the Policyholder as a Member. \n",
            " \n",
            "In no circumstance will a person be eligible for Member Life Insurance under this Group Policy \n",
            "if the person is eligible under any other Group Term Life Insurance policy underwritten by The \n",
            "Principal. \n",
            " \n",
            " \n",
            "Article 2 - Member Accidental Death and Dismemberment Insurance \n",
            " \n",
            "A person will be eligible for Member Accidental Death and Dismemberment Insurance on the \n",
            "latest of: \n",
            " \n",
            "a. the date the person is eligible for Member Life Insurance; or \n",
            " \n",
            "b. the date the person enters a class for which Member Accidental Death and Dismemberment' metadata={'producer': 'ADEP Document Services - PDF Generator', 'creator': 'Acrobat PDFMaker 10.1 for Word', 'creationdate': '2014-07-16T12:50:27-05:00', 'author': 'Apache POI', 'company': 'Principal Financial Group', 'contenttypeid': '0x010100963E1E66C16CFF4188CB6D2716FCB7F5', 'itemretentionformula': '', 'moddate': '2014-07-16T12:50:34-05:00', 'order': '467600.000000', 'paper copies': '1', 'sourcemodified': 'D:20140716175024', 'title': 'Life Policy', '_copysource': '2486961970434790079.docx', '_dlc_policyid': '', 'source': 'Policy_Docs/Principal-Sample-Life-Insurance-Policy.pdf', 'total_pages': 64, 'page': 25, 'page_label': '26'}\n"
          ]
        }
      ]
    },
    {
      "cell_type": "code",
      "source": [
        "query = queries[1]\n",
        "\n",
        "relevant_docs = faiss_retriever.get_relevant_documents(query)\n",
        "print(f'Number of relevant docs: {len(relevant_docs)}')\n",
        "print(relevant_docs[0])\n",
        "print('*'*100)\n",
        "print(relevant_docs[1])\n",
        "print('*'*100)\n",
        "print(relevant_docs[2])"
      ],
      "metadata": {
        "colab": {
          "base_uri": "https://localhost:8080/"
        },
        "id": "pILkJN4Y2yms",
        "outputId": "7d15607c-a9f3-4fd7-effe-5a855db8cedd"
      },
      "execution_count": null,
      "outputs": [
        {
          "output_type": "stream",
          "name": "stdout",
          "text": [
            "Number of relevant docs: 5\n",
            "page_content='Payment of premium b eyond the effective date of the change constitutes the Policyholder's \n",
            "consent to the change. \n",
            " \n",
            " \n",
            "Article 3 - Policyholder Eligibility Requirements \n",
            " \n",
            "To be an eligible group and to remain an eligible group, the Policyholder must:' metadata={'producer': 'ADEP Document Services - PDF Generator', 'creator': 'Acrobat PDFMaker 10.1 for Word', 'creationdate': '2014-07-16T12:50:27-05:00', 'author': 'Apache POI', 'company': 'Principal Financial Group', 'contenttypeid': '0x010100963E1E66C16CFF4188CB6D2716FCB7F5', 'itemretentionformula': '', 'moddate': '2014-07-16T12:50:34-05:00', 'order': '467600.000000', 'paper copies': '1', 'sourcemodified': 'D:20140716175024', 'title': 'Life Policy', '_copysource': '2486961970434790079.docx', '_dlc_policyid': '', 'source': 'Policy_Docs/Principal-Sample-Life-Insurance-Policy.pdf', 'total_pages': 64, 'page': 15, 'page_label': '16'}\n",
            "****************************************************************************************************\n",
            "page_content='This policy has been updated effective  January 1, 2014 \n",
            " \n",
            " \n",
            "PART II - POLICY ADMINISTRATION \n",
            "GC 6004 Section B - Premiums, Page 1  \n",
            " \n",
            "Section B - Premiums \n",
            " \n",
            " \n",
            "Article 1 - Payment Responsibility; Due Dates; Grace Period \n",
            " \n",
            "The Policyholder is responsible for collection and payment of all premiums due while this Group \n",
            "Policy is in force.  Payments must be sent to the home office of The Principal in Des Moines, \n",
            "Iowa. \n",
            " \n",
            "The first premium is due on the Date of Issue of this Group Policy.  Each premium thereafter \n",
            "will be due on the first of each Insurance Month.  Except for the first premium, a Grace Period of \n",
            "31 days will be allowed for payment of premium.  \"Grace Period\" means the first 31- day period \n",
            "following a premium due date.  The Group Policy will remain in fo rce until the end of the Grace \n",
            "Period, unless the Group Policy has been terminated by notice as described in PART II, Section' metadata={'producer': 'ADEP Document Services - PDF Generator', 'creator': 'Acrobat PDFMaker 10.1 for Word', 'creationdate': '2014-07-16T12:50:27-05:00', 'author': 'Apache POI', 'company': 'Principal Financial Group', 'contenttypeid': '0x010100963E1E66C16CFF4188CB6D2716FCB7F5', 'itemretentionformula': '', 'moddate': '2014-07-16T12:50:34-05:00', 'order': '467600.000000', 'paper copies': '1', 'sourcemodified': 'D:20140716175024', 'title': 'Life Policy', '_copysource': '2486961970434790079.docx', '_dlc_policyid': '', 'source': 'Policy_Docs/Principal-Sample-Life-Insurance-Policy.pdf', 'total_pages': 64, 'page': 19, 'page_label': '20'}\n",
            "****************************************************************************************************\n",
            "page_content='This policy has been updated effective  January 1, 2014 \n",
            " \n",
            " \n",
            "PART II - POLICY ADMINISTRATION \n",
            "GC 6005  Section C - Policy Termination, Page 1  \n",
            " \n",
            "Section C - Policy Termination \n",
            " \n",
            " \n",
            "Article 1 - Failure to Pay Premium \n",
            " \n",
            "This Group Policy will terminate at the end of the Grace Period if total premium due has not \n",
            "been received by The Principal before the end of the Grace Period.  Failure by the Policyholder \n",
            "to pay the premium within the Grace Period will be deemed notice by the Policyholder to The \n",
            "Principal to discontinue this Group Policy at the end of the Grace Period. \n",
            " \n",
            " \n",
            "Article 2 - Termination Rights of the Policyholder \n",
            " \n",
            "The Policyholder may terminate this Group Policy effective on the day before any premium due \n",
            "date by giving Written notice to The Principal prior to that premium due date.  The \n",
            "Policyholder's issuance of a stop- payment order for any amounts used to pay premiums for the \n",
            "Policyholder's coverage will be considered Written notice from the Policyholder.' metadata={'producer': 'ADEP Document Services - PDF Generator', 'creator': 'Acrobat PDFMaker 10.1 for Word', 'creationdate': '2014-07-16T12:50:27-05:00', 'author': 'Apache POI', 'company': 'Principal Financial Group', 'contenttypeid': '0x010100963E1E66C16CFF4188CB6D2716FCB7F5', 'itemretentionformula': '', 'moddate': '2014-07-16T12:50:34-05:00', 'order': '467600.000000', 'paper copies': '1', 'sourcemodified': 'D:20140716175024', 'title': 'Life Policy', '_copysource': '2486961970434790079.docx', '_dlc_policyid': '', 'source': 'Policy_Docs/Principal-Sample-Life-Insurance-Policy.pdf', 'total_pages': 64, 'page': 22, 'page_label': '23'}\n"
          ]
        }
      ]
    },
    {
      "cell_type": "code",
      "source": [
        "query = queries[2]\n",
        "\n",
        "relevant_docs = faiss_retriever.get_relevant_documents(query)\n",
        "print(f'Number of relevant docs: {len(relevant_docs)}')\n",
        "print(relevant_docs[0])\n",
        "print('*'*100)\n",
        "print(relevant_docs[1])\n",
        "print('*'*100)\n",
        "print(relevant_docs[2])"
      ],
      "metadata": {
        "colab": {
          "base_uri": "https://localhost:8080/"
        },
        "id": "_ZqOSZlv6UHx",
        "outputId": "f6dc6b6e-5e5f-43ee-e0a3-ba825f4cd30f"
      },
      "execution_count": null,
      "outputs": [
        {
          "output_type": "stream",
          "name": "stdout",
          "text": [
            "Number of relevant docs: 5\n",
            "page_content='Dependent is acquired, provided the new Dependent is not then confined in a Hospital or \n",
            "Skilled Nursing Facility.  Requests for insurance and Proof of Good Health are not required' metadata={'producer': 'ADEP Document Services - PDF Generator', 'creator': 'Acrobat PDFMaker 10.1 for Word', 'creationdate': '2014-07-16T12:50:27-05:00', 'author': 'Apache POI', 'company': 'Principal Financial Group', 'contenttypeid': '0x010100963E1E66C16CFF4188CB6D2716FCB7F5', 'itemretentionformula': '', 'moddate': '2014-07-16T12:50:34-05:00', 'order': '467600.000000', 'paper copies': '1', 'sourcemodified': 'D:20140716175024', 'title': 'Life Policy', '_copysource': '2486961970434790079.docx', '_dlc_policyid': '', 'source': 'Policy_Docs/Principal-Sample-Life-Insurance-Policy.pdf', 'total_pages': 64, 'page': 32, 'page_label': '33'}\n",
            "****************************************************************************************************\n",
            "page_content='Dependent \n",
            " \n",
            "a. A Member's spouse, if that spouse: \n",
            " \n",
            "(1) is legally married to the Member; and \n",
            "(2) is not in the Armed Forces of any country; and \n",
            "(3)  is not insured under this Group Policy as a Member. \n",
            " \n",
            "A Member's spouse will also include a Civil Union Partner. \n",
            " \n",
            "b. A Member's Dependent Child (or Children) as defined below. \n",
            " \n",
            "Dependent Child; Dependent Children \n",
            " \n",
            "a. A Member's natural child or stepchild, if that child is 0 days but less than 26 years of age. \n",
            " \n",
            "b. A Member's foster child, if that child: \n",
            " \n",
            "(1) meets the requirements above; and' metadata={'producer': 'ADEP Document Services - PDF Generator', 'creator': 'Acrobat PDFMaker 10.1 for Word', 'creationdate': '2014-07-16T12:50:27-05:00', 'author': 'Apache POI', 'company': 'Principal Financial Group', 'contenttypeid': '0x010100963E1E66C16CFF4188CB6D2716FCB7F5', 'itemretentionformula': '', 'moddate': '2014-07-16T12:50:34-05:00', 'order': '467600.000000', 'paper copies': '1', 'sourcemodified': 'D:20140716175024', 'title': 'Life Policy', '_copysource': '2486961970434790079.docx', '_dlc_policyid': '', 'source': 'Policy_Docs/Principal-Sample-Life-Insurance-Policy.pdf', 'total_pages': 64, 'page': 9, 'page_label': '10'}\n",
            "****************************************************************************************************\n",
            "page_content='Scheduled Benefit (or approved amount, if applicable) in force, provided all Benefit \n",
            "Qualifications as described in Article 2 are met.' metadata={'producer': 'ADEP Document Services - PDF Generator', 'creator': 'Acrobat PDFMaker 10.1 for Word', 'creationdate': '2014-07-16T12:50:27-05:00', 'author': 'Apache POI', 'company': 'Principal Financial Group', 'contenttypeid': '0x010100963E1E66C16CFF4188CB6D2716FCB7F5', 'itemretentionformula': '', 'moddate': '2014-07-16T12:50:34-05:00', 'order': '467600.000000', 'paper copies': '1', 'sourcemodified': 'D:20140716175024', 'title': 'Life Policy', '_copysource': '2486961970434790079.docx', '_dlc_policyid': '', 'source': 'Policy_Docs/Principal-Sample-Life-Insurance-Policy.pdf', 'total_pages': 64, 'page': 55, 'page_label': '56'}\n"
          ]
        }
      ]
    },
    {
      "cell_type": "markdown",
      "source": [
        "# 5. Setting Up the Language Model (LLM) Chain"
      ],
      "metadata": {
        "id": "Xi7BzGp1wfCY"
      }
    },
    {
      "cell_type": "markdown",
      "source": [
        "## 5.1. Initializing the LLM"
      ],
      "metadata": {
        "id": "w8wGVCOLwjXM"
      }
    },
    {
      "cell_type": "code",
      "source": [
        "\n",
        "llm = ChatGoogleGenerativeAI(\n",
        "    model=\"gemini-1.5-flash\",\n",
        "    temperature=0.1,\n",
        "    max_output_tokens=1000,\n",
        "    google_api_key=os.getenv(\"GOOGLE_API_KEY\")\n",
        ")\n",
        "\n"
      ],
      "metadata": {
        "id": "WJkWBDj07ZqG"
      },
      "execution_count": null,
      "outputs": []
    },
    {
      "cell_type": "markdown",
      "source": [
        "## 5.2. Defining the RAG Prompt Template"
      ],
      "metadata": {
        "id": "W1CKS83bwnyi"
      }
    },
    {
      "cell_type": "code",
      "source": [
        "prompt_temlate = \"\"\"\n",
        "You are a helpful assistant. Use the following pieces of context to answer the question at the end.\n",
        "If you don't know the answer, just say that you don't know, don't try to make up an answer.\n",
        "Rules:\n",
        "1. Complete Sentense\n",
        "2. Structure response\n",
        "3. Contextual relevant response\n",
        "\n",
        "Context: {context}\n",
        "\n",
        "Question: {question}\n",
        "Helpful Answer:\n",
        "\"\"\"\n",
        "PROMPT = ChatPromptTemplate.from_template(prompt_temlate)\n",
        "\n",
        "output_parser = StrOutputParser()"
      ],
      "metadata": {
        "id": "eV-5Us0O8af2"
      },
      "execution_count": null,
      "outputs": []
    },
    {
      "cell_type": "markdown",
      "source": [
        "## 5.3. Building the Full RAG Chain"
      ],
      "metadata": {
        "id": "Y2NW2JnDws4-"
      }
    },
    {
      "cell_type": "code",
      "source": [
        "chain = (\n",
        "    {'context': faiss_retriever, 'question': RunnablePassthrough()}\n",
        "    | PROMPT\n",
        "    | llm\n",
        "    | output_parser\n",
        ")"
      ],
      "metadata": {
        "id": "B-PVifFzLkdd"
      },
      "execution_count": null,
      "outputs": []
    },
    {
      "cell_type": "markdown",
      "source": [
        "# 6. Running the Full RAG Pipeline"
      ],
      "metadata": {
        "id": "i3ncfioXwzBO"
      }
    },
    {
      "cell_type": "markdown",
      "source": [
        "## 6.1. Executing Queries"
      ],
      "metadata": {
        "id": "ajHJxgBYw2PR"
      }
    },
    {
      "cell_type": "code",
      "source": [
        "for query in queries:\n",
        "    print(f'Query: {query}')\n",
        "    print(f'Response: {chain.invoke(query)}')\n",
        "    print('-' * 50)"
      ],
      "metadata": {
        "colab": {
          "base_uri": "https://localhost:8080/"
        },
        "id": "T8dJUhSKNMvV",
        "outputId": "1e0fcc85-908e-401a-ac7d-3df5a23081b0"
      },
      "execution_count": null,
      "outputs": [
        {
          "output_type": "stream",
          "name": "stdout",
          "text": [
            "Query: What is a \"Member\" according to this policy?\n",
            "Response: Based on the provided text, a \"Member\" is an individual who has completed 30 consecutive days of continuous Active Work with the Policyholder.  A Member is eligible for Member Life Insurance and potentially Member Accidental Death and Dismemberment Insurance, depending on their eligibility date.  Members are not required to contribute to the premium for their own insurance, but may be required to contribute to their dependents' insurance.\n",
            "--------------------------------------------------\n",
            "Query: What is the grace period for paying premiums?\n",
            "Response: The grace period for paying premiums is 31 days.\n",
            "--------------------------------------------------\n",
            "Query: Who is considered a \"Dependent\"?\n",
            "Response: Based on the provided text, a dependent is defined in several ways:\n",
            "\n",
            "*   **A Member's spouse:**  Must be legally married to the Member, not in the Armed Forces of any country, and not insured under the Group Policy as a Member. A Civil Union Partner is also included.\n",
            "*   **A Member's Dependent Child:** This includes natural or stepchildren under 26 years of age, foster children meeting the same age requirement, and a Civil Union Partner's child who qualifies or is under the Member's or Civil Union Partner's guardianship via court order.  Further qualifications for Dependent Children include considerations for developmental disabilities and full-time student status.\n",
            "--------------------------------------------------\n"
          ]
        }
      ]
    },
    {
      "cell_type": "code",
      "source": [],
      "metadata": {
        "id": "QCVs5FgKQdl5"
      },
      "execution_count": null,
      "outputs": []
    },
    {
      "cell_type": "code",
      "source": [],
      "metadata": {
        "id": "kywK51D1SnqR"
      },
      "execution_count": null,
      "outputs": []
    }
  ]
}